{
 "cells": [
  {
   "cell_type": "markdown",
   "metadata": {},
   "source": [
    "# Lab: Regression Analysis"
   ]
  },
  {
   "cell_type": "markdown",
   "metadata": {},
   "source": [
    "### Before you start:\n",
    "\n",
    "* Read the README.md file\n",
    "* Comment as much as you can and use the resources (README.md file) \n",
    "\n",
    "Happy learning!"
   ]
  },
  {
   "cell_type": "markdown",
   "metadata": {},
   "source": [
    "## Challenge 1\n",
    "I work at a coding bootcamp, and I have developed a theory that the younger my students are, the more often they are late to class. In order to test my hypothesis, I have collected some data in the following table:\n",
    "\n",
    "| StudentID | Age | Tardies |\n",
    "|--------|-----|------------|\n",
    "| 1      | 17  | 10         |\n",
    "| 2      | 51  | 1          |\n",
    "| 3      | 27  | 5          |\n",
    "| 4      | 21  | 9         |\n",
    "| 5      | 36  |  4         |\n",
    "| 6      | 48  |  2         |\n",
    "| 7      | 19  |  9         |\n",
    "| 8      | 26  | 6          |\n",
    "| 9      | 54  |  0         |\n",
    "| 10     | 30  |  3         |"
   ]
  },
  {
   "cell_type": "code",
   "execution_count": 69,
   "metadata": {},
   "outputs": [],
   "source": [
    "#!pip install plotly\n",
    "import pandas as pd\n",
    "import numpy as np\n",
    "import plotly.express as px\n",
    "import statsmodels.formula.api as smf\n",
    "from sklearn.linear_model import LinearRegression\n",
    "import matplotlib.pyplot as plt\n",
    "import seaborn as sns"
   ]
  },
  {
   "cell_type": "markdown",
   "metadata": {},
   "source": [
    "Use this command to create a dataframe with the data provided in the table. \n",
    "~~~~\n",
    "student_data = pd.DataFrame({'Age': [17,51,27,21,36,48,19,26,54,30], 'Tardies': [10,1,5,9,4,2,9,6,0,3]})\n",
    "~~~~"
   ]
  },
  {
   "cell_type": "code",
   "execution_count": 70,
   "metadata": {},
   "outputs": [],
   "source": [
    "# Your code here. \n",
    "student_data = pd.DataFrame({'Age': [17,51,27,21,36,48,19,26,54,30], 'Tardies': [10,1,5,9,4,2,9,6,0,3]})\n"
   ]
  },
  {
   "cell_type": "markdown",
   "metadata": {},
   "source": [
    "Draw a dispersion diagram (scatter plot) for the data."
   ]
  },
  {
   "cell_type": "code",
   "execution_count": 71,
   "metadata": {},
   "outputs": [
    {
     "data": {
      "image/png": "[encoded data removed]",
      "text/plain": [
       "<Figure size 640x480 with 1 Axes>"
      ]
     },
     "metadata": {},
     "output_type": "display_data"
    }
   ],
   "source": [
    "# Your code here\n",
    "sns.scatterplot(student_data,x='Age',y='Tardies');"
   ]
  },
  {
   "cell_type": "markdown",
   "metadata": {},
   "source": [
    "Do you see a trend? Can you make any hypotheses about the relationship between age and number of tardies?"
   ]
  },
  {
   "cell_type": "markdown",
   "metadata": {},
   "source": [
    "There could be a negative linear relationship between age and the number of tardies, i.e. we might expect a negative coefficient when fitting a linear model."
   ]
  },
  {
   "cell_type": "markdown",
   "metadata": {},
   "source": [
    "Calculate the covariance and correlation of the variables in your plot. What is the difference between these two measures? Compare their values. What do they tell you in this case? Add your responses as comments after your code."
   ]
  },
  {
   "cell_type": "code",
   "execution_count": 72,
   "metadata": {},
   "outputs": [
    {
     "data": {
      "text/plain": [
       "np.float64(-45.56666666666666)"
      ]
     },
     "execution_count": 72,
     "metadata": {},
     "output_type": "execute_result"
    }
   ],
   "source": [
    "# your code here\n",
    "student_data['Age'].cov(student_data['Tardies'])"
   ]
  },
  {
   "cell_type": "code",
   "execution_count": 73,
   "metadata": {},
   "outputs": [
    {
     "name": "stdout",
     "output_type": "stream",
     "text": [
      "Pearson correlation coefficient: -0.9391626886887122\n",
      "Spearman correlation coefficient: -0.9848069807617047\n"
     ]
    }
   ],
   "source": [
    "print('Pearson correlation coefficient:', student_data['Age'].corr(student_data['Tardies'],method='pearson'))\n",
    "print('Spearman correlation coefficient:', student_data['Age'].corr(student_data['Tardies'],method='spearman'))\n",
    "\n",
    "# "
   ]
  },
  {
   "cell_type": "markdown",
   "metadata": {},
   "source": [
    "The Pearson correlation coefficient is close to -1, indicating a strong negative linear correlation between age and amount of tardies.\n",
    "The Spearman correlation coefficient is also close to -1, indicating a strong negative monotonic interaction between the two properties. "
   ]
  },
  {
   "cell_type": "markdown",
   "metadata": {},
   "source": [
    "Build a regression model for this data. What will be your outcome variable? What type of regression are you using? Add your responses as comments after your code."
   ]
  },
  {
   "cell_type": "code",
   "execution_count": 74,
   "metadata": {},
   "outputs": [
    {
     "name": "stdout",
     "output_type": "stream",
     "text": [
      "(10, 1) (8, 1) (2, 1)\n",
      "(10,) (8,) (2,)\n",
      "13.46408839779005 [-0.26657459]\n"
     ]
    }
   ],
   "source": [
    "# your explanation here\n",
    "\n",
    "# define predictor and outcome sets\n",
    "X = student_data[['Age']]\n",
    "y = student_data['Tardies']\n",
    "\n",
    "# Split in train and test sets\n",
    "from sklearn.model_selection import train_test_split\n",
    "\n",
    "X_train, X_test, y_train, y_test = train_test_split(X, y, test_size=.2, random_state=42)\n",
    "\n",
    "# Check train and test sizes\n",
    "print(X.shape, X_train.shape, X_test.shape)\n",
    "print(y.shape, y_train.shape, y_test.shape)\n",
    "\n",
    "lm = LinearRegression()     #  using linear regression model\n",
    "\n",
    "lm.fit(X_train,y_train)     # fitting \n",
    "print(lm.intercept_, lm.coef_)"
   ]
  },
  {
   "cell_type": "markdown",
   "metadata": {},
   "source": [
    "Plot your regression model on your scatter plot."
   ]
  },
  {
   "cell_type": "code",
   "execution_count": 75,
   "metadata": {},
   "outputs": [
    {
     "data": {
      "image/png": "[encoded data removed]",
      "text/plain": [
       "<Figure size 640x480 with 1 Axes>"
      ]
     },
     "metadata": {},
     "output_type": "display_data"
    }
   ],
   "source": [
    "# Your code here.\n",
    "# Define xmin xmax for the model:\n",
    "\n",
    "xmin, xmax = round(X.min()), round(X.max())\n",
    "\n",
    "\n",
    "#x_model = np.arange(xmin, xmax+1)\n",
    "y_train_pred=lm.predict(X_train)\n",
    "y_test_pred = lm.predict(X_test)\n",
    "\n",
    "plt.plot(X_train, y_train, \"o\", alpha=0.5, label=\"train\") # alpha, transparency value, between 0 (transparent) and 1 (opaque).\n",
    "plt.plot(X_test, y_test, \"o\", alpha=0.5, label=\"test\") # alpha, transparency value, between 0 (transparent) and 1 (opaque).\n",
    "\n",
    "plt.plot(X_train, y_train_pred,'r'); \n",
    "plt.plot(X_test, y_test_pred,'b'); \n",
    "\n",
    "\n",
    "plt.legend()\n",
    "plt.show()\n"
   ]
  },
  {
   "cell_type": "markdown",
   "metadata": {},
   "source": [
    "Interpret the results of your model. What can conclusions can you draw from your model and how confident in these conclusions are you? Can we say that age is a good predictor of tardiness? Add your responses as comments after your code."
   ]
  },
  {
   "cell_type": "code",
   "execution_count": 76,
   "metadata": {},
   "outputs": [
    {
     "name": "stdout",
     "output_type": "stream",
     "text": [
      "Score:\n",
      "0.8038889848066298 -3.2925925643295164\n",
      "MSE:\n",
      "1.5688881215469614 1.073148141082379\n",
      "MAE:\n",
      "1.06664364640884 1.0310773480662956\n"
     ]
    }
   ],
   "source": [
    "from sklearn.metrics import mean_squared_error, r2_score, mean_absolute_error\n",
    "\n",
    "# Compute Score\n",
    "print('Score:')\n",
    "print(r2_score(y_train, y_train_pred), r2_score(y_test, y_test_pred))\n",
    "\n",
    "# Compute MSE for training and testing sets \n",
    "print('MSE:')\n",
    "print(mean_squared_error(y_train_pred, y_train), mean_squared_error(y_test_pred, y_test))\n",
    "\n",
    "# Compute MSE for training and testing sets \n",
    "print('MAE:')\n",
    "print(mean_absolute_error(y_train_pred, y_train), mean_absolute_error(y_test_pred, y_test))"
   ]
  },
  {
   "cell_type": "code",
   "execution_count": null,
   "metadata": {},
   "outputs": [],
   "source": []
  },
  {
   "cell_type": "markdown",
   "metadata": {},
   "source": [
    "The model relatively closely follows the distribution of the training data with an R2-score of around 0.8 and an MSE of 1.5. The R2-score for the test data is much worse, but this might be related to the very small overall number of data points (and only two datapoints in the test set)\n",
    "\n",
    "\n",
    "Given the overall shape, there might be some basis for considering age as a predictor for tardiness in this small dataset, but overall one would probably need many more datapoints for a more reliable conclusion.."
   ]
  },
  {
   "cell_type": "markdown",
   "metadata": {},
   "source": [
    "Range / error "
   ]
  },
  {
   "cell_type": "markdown",
   "metadata": {},
   "source": [
    "## Challenge 2\n",
    "For the second part of this lab, we will use the vehicles.csv data set. You can find a copy of the dataset in the git hub folder. This dataset includes variables related to vehicle characteristics, including the model, make, and energy efficiency standards, as well as each car's CO2 emissions. As discussed in class the goal of this exercise is to predict vehicles' CO2 emissions based on several independent variables. "
   ]
  },
  {
   "cell_type": "code",
   "execution_count": 38,
   "metadata": {},
   "outputs": [],
   "source": [
    "# Import any libraries you may need & the data\n",
    "vehicles = pd.read_csv(\"../vehicles.csv\")"
   ]
  },
  {
   "cell_type": "code",
   "execution_count": 39,
   "metadata": {},
   "outputs": [
    {
     "name": "stdout",
     "output_type": "stream",
     "text": [
      "<class 'pandas.core.frame.DataFrame'>\n",
      "RangeIndex: 35952 entries, 0 to 35951\n",
      "Data columns (total 15 columns):\n",
      " #   Column                   Non-Null Count  Dtype  \n",
      "---  ------                   --------------  -----  \n",
      " 0   Make                     35952 non-null  object \n",
      " 1   Model                    35952 non-null  object \n",
      " 2   Year                     35952 non-null  int64  \n",
      " 3   Engine Displacement      35952 non-null  float64\n",
      " 4   Cylinders                35952 non-null  float64\n",
      " 5   Transmission             35952 non-null  object \n",
      " 6   Drivetrain               35952 non-null  object \n",
      " 7   Vehicle Class            35952 non-null  object \n",
      " 8   Fuel Type                35952 non-null  object \n",
      " 9   Fuel Barrels/Year        35952 non-null  float64\n",
      " 10  City MPG                 35952 non-null  int64  \n",
      " 11  Highway MPG              35952 non-null  int64  \n",
      " 12  Combined MPG             35952 non-null  int64  \n",
      " 13  CO2 Emission Grams/Mile  35952 non-null  float64\n",
      " 14  Fuel Cost/Year           35952 non-null  int64  \n",
      "dtypes: float64(4), int64(5), object(6)\n",
      "memory usage: 4.1+ MB\n"
     ]
    }
   ],
   "source": [
    "vehicles.info()"
   ]
  },
  {
   "cell_type": "code",
   "execution_count": 55,
   "metadata": {},
   "outputs": [
    {
     "data": {
      "text/html": [
       "<div>\n",
       "<style scoped>\n",
       "    .dataframe tbody tr th:only-of-type {\n",
       "        vertical-align: middle;\n",
       "    }\n",
       "\n",
       "    .dataframe tbody tr th {\n",
       "        vertical-align: top;\n",
       "    }\n",
       "\n",
       "    .dataframe thead th {\n",
       "        text-align: right;\n",
       "    }\n",
       "</style>\n",
       "<table border=\"1\" class=\"dataframe\">\n",
       "  <thead>\n",
       "    <tr style=\"text-align: right;\">\n",
       "      <th></th>\n",
       "      <th>Year</th>\n",
       "      <th>Engine Displacement</th>\n",
       "      <th>Cylinders</th>\n",
       "      <th>Fuel Barrels/Year</th>\n",
       "      <th>City MPG</th>\n",
       "      <th>Highway MPG</th>\n",
       "      <th>Combined MPG</th>\n",
       "      <th>CO2 Emission Grams/Mile</th>\n",
       "      <th>Fuel Cost/Year</th>\n",
       "    </tr>\n",
       "  </thead>\n",
       "  <tbody>\n",
       "    <tr>\n",
       "      <th>count</th>\n",
       "      <td>35952.00000</td>\n",
       "      <td>35952.000000</td>\n",
       "      <td>35952.000000</td>\n",
       "      <td>35952.000000</td>\n",
       "      <td>35952.000000</td>\n",
       "      <td>35952.000000</td>\n",
       "      <td>35952.000000</td>\n",
       "      <td>35952.000000</td>\n",
       "      <td>35952.000000</td>\n",
       "    </tr>\n",
       "    <tr>\n",
       "      <th>mean</th>\n",
       "      <td>2000.71640</td>\n",
       "      <td>3.338493</td>\n",
       "      <td>5.765076</td>\n",
       "      <td>17.609056</td>\n",
       "      <td>17.646139</td>\n",
       "      <td>23.880646</td>\n",
       "      <td>19.929322</td>\n",
       "      <td>475.316339</td>\n",
       "      <td>1892.598465</td>\n",
       "    </tr>\n",
       "    <tr>\n",
       "      <th>std</th>\n",
       "      <td>10.08529</td>\n",
       "      <td>1.359395</td>\n",
       "      <td>1.755268</td>\n",
       "      <td>4.467283</td>\n",
       "      <td>4.769349</td>\n",
       "      <td>5.890876</td>\n",
       "      <td>5.112409</td>\n",
       "      <td>119.060773</td>\n",
       "      <td>506.958627</td>\n",
       "    </tr>\n",
       "    <tr>\n",
       "      <th>min</th>\n",
       "      <td>1984.00000</td>\n",
       "      <td>0.600000</td>\n",
       "      <td>2.000000</td>\n",
       "      <td>0.060000</td>\n",
       "      <td>6.000000</td>\n",
       "      <td>9.000000</td>\n",
       "      <td>7.000000</td>\n",
       "      <td>37.000000</td>\n",
       "      <td>600.000000</td>\n",
       "    </tr>\n",
       "    <tr>\n",
       "      <th>25%</th>\n",
       "      <td>1991.00000</td>\n",
       "      <td>2.200000</td>\n",
       "      <td>4.000000</td>\n",
       "      <td>14.699423</td>\n",
       "      <td>15.000000</td>\n",
       "      <td>20.000000</td>\n",
       "      <td>16.000000</td>\n",
       "      <td>395.000000</td>\n",
       "      <td>1500.000000</td>\n",
       "    </tr>\n",
       "    <tr>\n",
       "      <th>50%</th>\n",
       "      <td>2001.00000</td>\n",
       "      <td>3.000000</td>\n",
       "      <td>6.000000</td>\n",
       "      <td>17.347895</td>\n",
       "      <td>17.000000</td>\n",
       "      <td>24.000000</td>\n",
       "      <td>19.000000</td>\n",
       "      <td>467.736842</td>\n",
       "      <td>1850.000000</td>\n",
       "    </tr>\n",
       "    <tr>\n",
       "      <th>75%</th>\n",
       "      <td>2010.00000</td>\n",
       "      <td>4.300000</td>\n",
       "      <td>6.000000</td>\n",
       "      <td>20.600625</td>\n",
       "      <td>20.000000</td>\n",
       "      <td>27.000000</td>\n",
       "      <td>23.000000</td>\n",
       "      <td>555.437500</td>\n",
       "      <td>2200.000000</td>\n",
       "    </tr>\n",
       "    <tr>\n",
       "      <th>max</th>\n",
       "      <td>2017.00000</td>\n",
       "      <td>8.400000</td>\n",
       "      <td>16.000000</td>\n",
       "      <td>47.087143</td>\n",
       "      <td>58.000000</td>\n",
       "      <td>61.000000</td>\n",
       "      <td>56.000000</td>\n",
       "      <td>1269.571429</td>\n",
       "      <td>5800.000000</td>\n",
       "    </tr>\n",
       "  </tbody>\n",
       "</table>\n",
       "</div>"
      ],
      "text/plain": [
       "              Year  Engine Displacement     Cylinders  Fuel Barrels/Year  \\\n",
       "count  35952.00000         35952.000000  35952.000000       35952.000000   \n",
       "mean    2000.71640             3.338493      5.765076          17.609056   \n",
       "std       10.08529             1.359395      1.755268           4.467283   \n",
       "min     1984.00000             0.600000      2.000000           0.060000   \n",
       "25%     1991.00000             2.200000      4.000000          14.699423   \n",
       "50%     2001.00000             3.000000      6.000000          17.347895   \n",
       "75%     2010.00000             4.300000      6.000000          20.600625   \n",
       "max     2017.00000             8.400000     16.000000          47.087143   \n",
       "\n",
       "           City MPG   Highway MPG  Combined MPG  CO2 Emission Grams/Mile  \\\n",
       "count  35952.000000  35952.000000  35952.000000             35952.000000   \n",
       "mean      17.646139     23.880646     19.929322               475.316339   \n",
       "std        4.769349      5.890876      5.112409               119.060773   \n",
       "min        6.000000      9.000000      7.000000                37.000000   \n",
       "25%       15.000000     20.000000     16.000000               395.000000   \n",
       "50%       17.000000     24.000000     19.000000               467.736842   \n",
       "75%       20.000000     27.000000     23.000000               555.437500   \n",
       "max       58.000000     61.000000     56.000000              1269.571429   \n",
       "\n",
       "       Fuel Cost/Year  \n",
       "count    35952.000000  \n",
       "mean      1892.598465  \n",
       "std        506.958627  \n",
       "min        600.000000  \n",
       "25%       1500.000000  \n",
       "50%       1850.000000  \n",
       "75%       2200.000000  \n",
       "max       5800.000000  "
      ]
     },
     "execution_count": 55,
     "metadata": {},
     "output_type": "execute_result"
    }
   ],
   "source": [
    "vehicles.describe(\n",
    ")"
   ]
  },
  {
   "cell_type": "markdown",
   "metadata": {},
   "source": [
    "Let's use the following variables for our analysis: Year, Cylinders, Fuel Barrels/Year, Combined MPG, and Fuel Cost/Year. We will use 'CO2 Emission Grams/Mile' as our outcome variable. \n",
    "\n",
    "Calculate the correlations between each of these variables and the outcome. Which variable do you think will be the most important in determining CO2 emissions? Which provides the least amount of helpful information for determining CO2 emissions? Add your responses as comments after your code."
   ]
  },
  {
   "cell_type": "code",
   "execution_count": 40,
   "metadata": {},
   "outputs": [
    {
     "data": {
      "image/png": "[encoded data removed]",
      "text/plain": [
       "<Figure size 1500x1000 with 2 Axes>"
      ]
     },
     "metadata": {},
     "output_type": "display_data"
    }
   ],
   "source": [
    "num_veh=vehicles.select_dtypes(include='number')\n",
    "correlation_matr = num_veh.corr()\n",
    "mask = np.triu(np.ones_like(correlation_matr, dtype=bool))\n",
    "plt.figure(figsize=(15, 10))\n",
    "sns.heatmap(correlation_matr, mask=mask, annot=True, cmap=\"coolwarm\")\n",
    "\n",
    "plt.title(\"Dealing with Multicollinearity\")\n",
    "plt.show()"
   ]
  },
  {
   "cell_type": "code",
   "execution_count": 41,
   "metadata": {},
   "outputs": [
    {
     "data": {
      "text/plain": [
       "Year                -0.222300\n",
       "Cylinders            0.752393\n",
       "Fuel Barrels/Year    0.986189\n",
       "Combined MPG        -0.926229\n",
       "Fuel Cost/Year       0.930865\n",
       "dtype: float64"
      ]
     },
     "execution_count": 41,
     "metadata": {},
     "output_type": "execute_result"
    }
   ],
   "source": [
    "# Your code here.\n",
    "\n",
    "X = vehicles[['Year','Cylinders','Fuel Barrels/Year', 'Combined MPG', 'Fuel Cost/Year']]\n",
    "X_reduced = vehicles[['Year','Fuel Barrels/Year', 'Combined MPG']]\n",
    "\n",
    "y = vehicles['CO2 Emission Grams/Mile']\n",
    "\n",
    "X.corrwith(y)"
   ]
  },
  {
   "cell_type": "markdown",
   "metadata": {},
   "source": [
    "Most important will be `Fuel Barrely/Year` due to its very high positive correlation, with Combined MPG and Fuel Cost/Year also playing an important role. However, the correlation matrix above shows that Fuel Cost/Year also has a high correlation with Fuel Barrels/Year, raising the danger of colinearity. It might be better to exclude one of the parameters from the model (although I refrain from doing so for now to follow the tasks.)"
   ]
  },
  {
   "cell_type": "markdown",
   "metadata": {},
   "source": [
    "Build a regression model for this data. What type of regression are you using? Add your responses as comments after your code."
   ]
  },
  {
   "cell_type": "code",
   "execution_count": 49,
   "metadata": {},
   "outputs": [],
   "source": [
    "# Your code here.\n",
    "\n",
    "# Split in train and test sets\n",
    "from sklearn.model_selection import train_test_split\n",
    "\n",
    "X_train, X_test, y_train, y_test = train_test_split(X, y, test_size=.2, random_state=42)\n",
    "\n",
    "\n",
    "lm = LinearRegression()     # using a multiple linear regression model\n",
    "\n",
    "lm.fit(X_train,y_train)\n",
    "\n",
    "y_train_pred = lm.predict(X_train)\n",
    "y_test_pred = lm.predict(X_test)\n"
   ]
  },
  {
   "cell_type": "markdown",
   "metadata": {},
   "source": [
    "Print your regression summary, and interpret the results. What are the most important varibles in your model and why? What can conclusions can you draw from your model and how confident in these conclusions are you? Add your responses as comments after your code."
   ]
  },
  {
   "cell_type": "code",
   "execution_count": null,
   "metadata": {},
   "outputs": [
    {
     "name": "stdout",
     "output_type": "stream",
     "text": [
      "R2-Scores:\n",
      "training data 0.9812190180453002\n",
      "test data 0.9794542628636334\n",
      "MSE:\n",
      "training data 266.5430924643351\n",
      "test data 289.82774408137806\n"
     ]
    },
    {
     "data": {
      "text/html": [
       "<table class=\"simpletable\">\n",
       "<caption>OLS Regression Results</caption>\n",
       "<tr>\n",
       "  <th>Dep. Variable:</th>    <td>CO2 Emission Grams/Mile</td> <th>  R-squared (uncentered):</th>       <td>   0.999</td>  \n",
       "</tr>\n",
       "<tr>\n",
       "  <th>Model:</th>                      <td>OLS</td>           <th>  Adj. R-squared (uncentered):</th>  <td>   0.999</td>  \n",
       "</tr>\n",
       "<tr>\n",
       "  <th>Method:</th>                <td>Least Squares</td>      <th>  F-statistic:       </th>           <td>4.960e+06</td> \n",
       "</tr>\n",
       "<tr>\n",
       "  <th>Date:</th>                <td>Fri, 30 May 2025</td>     <th>  Prob (F-statistic):</th>            <td>  0.00</td>   \n",
       "</tr>\n",
       "<tr>\n",
       "  <th>Time:</th>                    <td>15:00:28</td>         <th>  Log-Likelihood:    </th>          <td>-1.2174e+05</td>\n",
       "</tr>\n",
       "<tr>\n",
       "  <th>No. Observations:</th>         <td> 28761</td>          <th>  AIC:               </th>           <td>2.435e+05</td> \n",
       "</tr>\n",
       "<tr>\n",
       "  <th>Df Residuals:</th>             <td> 28756</td>          <th>  BIC:               </th>           <td>2.435e+05</td> \n",
       "</tr>\n",
       "<tr>\n",
       "  <th>Df Model:</th>                 <td>     5</td>          <th>                     </th>               <td> </td>     \n",
       "</tr>\n",
       "<tr>\n",
       "  <th>Covariance Type:</th>         <td>nonrobust</td>        <th>                     </th>               <td> </td>     \n",
       "</tr>\n",
       "</table>\n",
       "<table class=\"simpletable\">\n",
       "<tr>\n",
       "          <td></td>             <th>coef</th>     <th>std err</th>      <th>t</th>      <th>P>|t|</th>  <th>[0.025</th>    <th>0.975]</th>  \n",
       "</tr>\n",
       "<tr>\n",
       "  <th>Year</th>              <td>    0.0607</td> <td>    0.001</td> <td>   64.823</td> <td> 0.000</td> <td>    0.059</td> <td>    0.063</td>\n",
       "</tr>\n",
       "<tr>\n",
       "  <th>Cylinders</th>         <td>    0.8274</td> <td>    0.090</td> <td>    9.227</td> <td> 0.000</td> <td>    0.652</td> <td>    1.003</td>\n",
       "</tr>\n",
       "<tr>\n",
       "  <th>Fuel Barrels/Year</th> <td>   20.0363</td> <td>    0.066</td> <td>  305.443</td> <td> 0.000</td> <td>   19.908</td> <td>   20.165</td>\n",
       "</tr>\n",
       "<tr>\n",
       "  <th>Combined MPG</th>      <td>   -2.9317</td> <td>    0.048</td> <td>  -61.407</td> <td> 0.000</td> <td>   -3.025</td> <td>   -2.838</td>\n",
       "</tr>\n",
       "<tr>\n",
       "  <th>Fuel Cost/Year</th>    <td>    0.0289</td> <td>    0.001</td> <td>   53.559</td> <td> 0.000</td> <td>    0.028</td> <td>    0.030</td>\n",
       "</tr>\n",
       "</table>\n",
       "<table class=\"simpletable\">\n",
       "<tr>\n",
       "  <th>Omnibus:</th>       <td>59660.012</td> <th>  Durbin-Watson:     </th>   <td>   2.009</td>   \n",
       "</tr>\n",
       "<tr>\n",
       "  <th>Prob(Omnibus):</th>  <td> 0.000</td>   <th>  Jarque-Bera (JB):  </th> <td>276321985.860</td>\n",
       "</tr>\n",
       "<tr>\n",
       "  <th>Skew:</th>           <td>17.692</td>   <th>  Prob(JB):          </th>   <td>    0.00</td>   \n",
       "</tr>\n",
       "<tr>\n",
       "  <th>Kurtosis:</th>       <td>481.883</td>  <th>  Cond. No.          </th>   <td>2.54e+03</td>   \n",
       "</tr>\n",
       "</table><br/><br/>Notes:<br/>[1] R² is computed without centering (uncentered) since the model does not contain a constant.<br/>[2] Standard Errors assume that the covariance matrix of the errors is correctly specified.<br/>[3] The condition number is large, 2.54e+03. This might indicate that there are<br/>strong multicollinearity or other numerical problems."
      ],
      "text/latex": [
       "\\begin{center}\n",
       "\\begin{tabular}{lclc}\n",
       "\\toprule\n",
       "\\textbf{Dep. Variable:}    & CO2 Emission Grams/Mile & \\textbf{  R-squared (uncentered):}      &       0.999    \\\\\n",
       "\\textbf{Model:}            &           OLS           & \\textbf{  Adj. R-squared (uncentered):} &       0.999    \\\\\n",
       "\\textbf{Method:}           &      Least Squares      & \\textbf{  F-statistic:       }          &   4.960e+06    \\\\\n",
       "\\textbf{Date:}             &     Fri, 30 May 2025    & \\textbf{  Prob (F-statistic):}          &       0.00     \\\\\n",
       "\\textbf{Time:}             &         15:00:28        & \\textbf{  Log-Likelihood:    }          &  -1.2174e+05   \\\\\n",
       "\\textbf{No. Observations:} &           28761         & \\textbf{  AIC:               }          &   2.435e+05    \\\\\n",
       "\\textbf{Df Residuals:}     &           28756         & \\textbf{  BIC:               }          &   2.435e+05    \\\\\n",
       "\\textbf{Df Model:}         &               5         & \\textbf{                     }          &                \\\\\n",
       "\\textbf{Covariance Type:}  &        nonrobust        & \\textbf{                     }          &                \\\\\n",
       "\\bottomrule\n",
       "\\end{tabular}\n",
       "\\begin{tabular}{lcccccc}\n",
       "                           & \\textbf{coef} & \\textbf{std err} & \\textbf{t} & \\textbf{P$> |$t$|$} & \\textbf{[0.025} & \\textbf{0.975]}  \\\\\n",
       "\\midrule\n",
       "\\textbf{Year}              &       0.0607  &        0.001     &    64.823  &         0.000        &        0.059    &        0.063     \\\\\n",
       "\\textbf{Cylinders}         &       0.8274  &        0.090     &     9.227  &         0.000        &        0.652    &        1.003     \\\\\n",
       "\\textbf{Fuel Barrels/Year} &      20.0363  &        0.066     &   305.443  &         0.000        &       19.908    &       20.165     \\\\\n",
       "\\textbf{Combined MPG}      &      -2.9317  &        0.048     &   -61.407  &         0.000        &       -3.025    &       -2.838     \\\\\n",
       "\\textbf{Fuel Cost/Year}    &       0.0289  &        0.001     &    53.559  &         0.000        &        0.028    &        0.030     \\\\\n",
       "\\bottomrule\n",
       "\\end{tabular}\n",
       "\\begin{tabular}{lclc}\n",
       "\\textbf{Omnibus:}       & 59660.012 & \\textbf{  Durbin-Watson:     } &       2.009    \\\\\n",
       "\\textbf{Prob(Omnibus):} &    0.000  & \\textbf{  Jarque-Bera (JB):  } & 276321985.860  \\\\\n",
       "\\textbf{Skew:}          &   17.692  & \\textbf{  Prob(JB):          } &        0.00    \\\\\n",
       "\\textbf{Kurtosis:}      &  481.883  & \\textbf{  Cond. No.          } &    2.54e+03    \\\\\n",
       "\\bottomrule\n",
       "\\end{tabular}\n",
       "%\\caption{OLS Regression Results}\n",
       "\\end{center}\n",
       "\n",
       "Notes: \\newline\n",
       " [1] R² is computed without centering (uncentered) since the model does not contain a constant. \\newline\n",
       " [2] Standard Errors assume that the covariance matrix of the errors is correctly specified. \\newline\n",
       " [3] The condition number is large, 2.54e+03. This might indicate that there are \\newline\n",
       " strong multicollinearity or other numerical problems."
      ],
      "text/plain": [
       "<class 'statsmodels.iolib.summary.Summary'>\n",
       "\"\"\"\n",
       "                                   OLS Regression Results                                   \n",
       "============================================================================================\n",
       "Dep. Variable:     CO2 Emission Grams/Mile   R-squared (uncentered):                   0.999\n",
       "Model:                                 OLS   Adj. R-squared (uncentered):              0.999\n",
       "Method:                      Least Squares   F-statistic:                          4.960e+06\n",
       "Date:                     Fri, 30 May 2025   Prob (F-statistic):                        0.00\n",
       "Time:                             15:00:28   Log-Likelihood:                     -1.2174e+05\n",
       "No. Observations:                    28761   AIC:                                  2.435e+05\n",
       "Df Residuals:                        28756   BIC:                                  2.435e+05\n",
       "Df Model:                                5                                                  \n",
       "Covariance Type:                 nonrobust                                                  \n",
       "=====================================================================================\n",
       "                        coef    std err          t      P>|t|      [0.025      0.975]\n",
       "-------------------------------------------------------------------------------------\n",
       "Year                  0.0607      0.001     64.823      0.000       0.059       0.063\n",
       "Cylinders             0.8274      0.090      9.227      0.000       0.652       1.003\n",
       "Fuel Barrels/Year    20.0363      0.066    305.443      0.000      19.908      20.165\n",
       "Combined MPG         -2.9317      0.048    -61.407      0.000      -3.025      -2.838\n",
       "Fuel Cost/Year        0.0289      0.001     53.559      0.000       0.028       0.030\n",
       "==============================================================================\n",
       "Omnibus:                    59660.012   Durbin-Watson:                   2.009\n",
       "Prob(Omnibus):                  0.000   Jarque-Bera (JB):        276321985.860\n",
       "Skew:                          17.692   Prob(JB):                         0.00\n",
       "Kurtosis:                     481.883   Cond. No.                     2.54e+03\n",
       "==============================================================================\n",
       "\n",
       "Notes:\n",
       "[1] R² is computed without centering (uncentered) since the model does not contain a constant.\n",
       "[2] Standard Errors assume that the covariance matrix of the errors is correctly specified.\n",
       "[3] The condition number is large, 2.54e+03. This might indicate that there are\n",
       "strong multicollinearity or other numerical problems.\n",
       "\"\"\""
      ]
     },
     "execution_count": 48,
     "metadata": {},
     "output_type": "execute_result"
    }
   ],
   "source": [
    "# Your code here.\n",
    "\n",
    "\n",
    "# Compute Score\n",
    "print('R2-Scores:')\n",
    "print('training data:', r2_score(y_train, y_train_pred))\n",
    "print('test data:', r2_score(y_test, y_test_pred))\n",
    "\n",
    "# Compute MSE for training and testing sets \n",
    "print('MSE:')\n",
    "print('training data:', mean_squared_error(y_train_pred, y_train))\n",
    "print('test data:', mean_squared_error(y_test_pred, y_test))\n",
    "\n",
    "import statsmodels.api as sm\n",
    "ols_model = sm.OLS(y_train, X_train).fit()\n",
    "ols_summary = ols_model.summary()\n",
    "ols_summary"
   ]
  },
  {
   "cell_type": "markdown",
   "metadata": {},
   "source": [
    "The R2-score is very close  to 1 both for training and test data, suggesting a good fit of a training data and no noticable overfitting.\n",
    "The absolute MSE values look somewhat high, but given the rather large scale of the target variable this is probably not concerning."
   ]
  },
  {
   "cell_type": "markdown",
   "metadata": {},
   "source": [
    "### Train and test another model for comparison\n",
    "\n",
    "This model reduces the number of parameters to see if removing collinearity helps improving the quality of the model."
   ]
  },
  {
   "cell_type": "code",
   "execution_count": 52,
   "metadata": {},
   "outputs": [],
   "source": [
    "\n",
    "X_red_train, X_red_test, y_train, y_test = train_test_split(X_reduced, y, test_size=.2, random_state=42)\n",
    "\n",
    "\n",
    "lm = LinearRegression()     # using a multiple linear regression model\n",
    "\n",
    "lm.fit(X_red_train,y_train)\n",
    "\n",
    "y_red_train_pred = lm.predict(X_red_train)\n",
    "y_red_test_pred = lm.predict(X_red_test)"
   ]
  },
  {
   "cell_type": "code",
   "execution_count": 54,
   "metadata": {},
   "outputs": [
    {
     "name": "stdout",
     "output_type": "stream",
     "text": [
      "R2-Scores:\n",
      "training data: 0.9779376355156034\n",
      "test data: 0.9755902200680244\n",
      "MSE:\n",
      "training data: 313.1130667677795\n",
      "test data: 344.3357327240916\n"
     ]
    },
    {
     "data": {
      "text/html": [
       "<table class=\"simpletable\">\n",
       "<caption>OLS Regression Results</caption>\n",
       "<tr>\n",
       "  <th>Dep. Variable:</th>    <td>CO2 Emission Grams/Mile</td> <th>  R-squared (uncentered):</th>       <td>   0.999</td>  \n",
       "</tr>\n",
       "<tr>\n",
       "  <th>Model:</th>                      <td>OLS</td>           <th>  Adj. R-squared (uncentered):</th>  <td>   0.999</td>  \n",
       "</tr>\n",
       "<tr>\n",
       "  <th>Method:</th>                <td>Least Squares</td>      <th>  F-statistic:       </th>           <td>7.305e+06</td> \n",
       "</tr>\n",
       "<tr>\n",
       "  <th>Date:</th>                <td>Fri, 30 May 2025</td>     <th>  Prob (F-statistic):</th>            <td>  0.00</td>   \n",
       "</tr>\n",
       "<tr>\n",
       "  <th>Time:</th>                    <td>15:06:14</td>         <th>  Log-Likelihood:    </th>          <td>-1.2352e+05</td>\n",
       "</tr>\n",
       "<tr>\n",
       "  <th>No. Observations:</th>         <td> 28761</td>          <th>  AIC:               </th>           <td>2.470e+05</td> \n",
       "</tr>\n",
       "<tr>\n",
       "  <th>Df Residuals:</th>             <td> 28758</td>          <th>  BIC:               </th>           <td>2.471e+05</td> \n",
       "</tr>\n",
       "<tr>\n",
       "  <th>Df Model:</th>                 <td>     3</td>          <th>                     </th>               <td> </td>     \n",
       "</tr>\n",
       "<tr>\n",
       "  <th>Covariance Type:</th>         <td>nonrobust</td>        <th>                     </th>               <td> </td>     \n",
       "</tr>\n",
       "</table>\n",
       "<table class=\"simpletable\">\n",
       "<tr>\n",
       "          <td></td>             <th>coef</th>     <th>std err</th>      <th>t</th>      <th>P>|t|</th>  <th>[0.025</th>    <th>0.975]</th>  \n",
       "</tr>\n",
       "<tr>\n",
       "  <th>Year</th>              <td>    0.0769</td> <td>    0.001</td> <td>   80.389</td> <td> 0.000</td> <td>    0.075</td> <td>    0.079</td>\n",
       "</tr>\n",
       "<tr>\n",
       "  <th>Fuel Barrels/Year</th> <td>   22.4666</td> <td>    0.056</td> <td>  403.361</td> <td> 0.000</td> <td>   22.357</td> <td>   22.576</td>\n",
       "</tr>\n",
       "<tr>\n",
       "  <th>Combined MPG</th>      <td>   -3.7191</td> <td>    0.049</td> <td>  -76.026</td> <td> 0.000</td> <td>   -3.815</td> <td>   -3.623</td>\n",
       "</tr>\n",
       "</table>\n",
       "<table class=\"simpletable\">\n",
       "<tr>\n",
       "  <th>Omnibus:</th>       <td>64903.459</td> <th>  Durbin-Watson:     </th>   <td>   2.011</td>   \n",
       "</tr>\n",
       "<tr>\n",
       "  <th>Prob(Omnibus):</th>  <td> 0.000</td>   <th>  Jarque-Bera (JB):  </th> <td>458815282.135</td>\n",
       "</tr>\n",
       "<tr>\n",
       "  <th>Skew:</th>           <td>21.539</td>   <th>  Prob(JB):          </th>   <td>    0.00</td>   \n",
       "</tr>\n",
       "<tr>\n",
       "  <th>Kurtosis:</th>       <td>620.259</td>  <th>  Cond. No.          </th>   <td>1.39e+03</td>   \n",
       "</tr>\n",
       "</table><br/><br/>Notes:<br/>[1] R² is computed without centering (uncentered) since the model does not contain a constant.<br/>[2] Standard Errors assume that the covariance matrix of the errors is correctly specified.<br/>[3] The condition number is large, 1.39e+03. This might indicate that there are<br/>strong multicollinearity or other numerical problems."
      ],
      "text/latex": [
       "\\begin{center}\n",
       "\\begin{tabular}{lclc}\n",
       "\\toprule\n",
       "\\textbf{Dep. Variable:}    & CO2 Emission Grams/Mile & \\textbf{  R-squared (uncentered):}      &       0.999    \\\\\n",
       "\\textbf{Model:}            &           OLS           & \\textbf{  Adj. R-squared (uncentered):} &       0.999    \\\\\n",
       "\\textbf{Method:}           &      Least Squares      & \\textbf{  F-statistic:       }          &   7.305e+06    \\\\\n",
       "\\textbf{Date:}             &     Fri, 30 May 2025    & \\textbf{  Prob (F-statistic):}          &       0.00     \\\\\n",
       "\\textbf{Time:}             &         15:06:14        & \\textbf{  Log-Likelihood:    }          &  -1.2352e+05   \\\\\n",
       "\\textbf{No. Observations:} &           28761         & \\textbf{  AIC:               }          &   2.470e+05    \\\\\n",
       "\\textbf{Df Residuals:}     &           28758         & \\textbf{  BIC:               }          &   2.471e+05    \\\\\n",
       "\\textbf{Df Model:}         &               3         & \\textbf{                     }          &                \\\\\n",
       "\\textbf{Covariance Type:}  &        nonrobust        & \\textbf{                     }          &                \\\\\n",
       "\\bottomrule\n",
       "\\end{tabular}\n",
       "\\begin{tabular}{lcccccc}\n",
       "                           & \\textbf{coef} & \\textbf{std err} & \\textbf{t} & \\textbf{P$> |$t$|$} & \\textbf{[0.025} & \\textbf{0.975]}  \\\\\n",
       "\\midrule\n",
       "\\textbf{Year}              &       0.0769  &        0.001     &    80.389  &         0.000        &        0.075    &        0.079     \\\\\n",
       "\\textbf{Fuel Barrels/Year} &      22.4666  &        0.056     &   403.361  &         0.000        &       22.357    &       22.576     \\\\\n",
       "\\textbf{Combined MPG}      &      -3.7191  &        0.049     &   -76.026  &         0.000        &       -3.815    &       -3.623     \\\\\n",
       "\\bottomrule\n",
       "\\end{tabular}\n",
       "\\begin{tabular}{lclc}\n",
       "\\textbf{Omnibus:}       & 64903.459 & \\textbf{  Durbin-Watson:     } &       2.011    \\\\\n",
       "\\textbf{Prob(Omnibus):} &    0.000  & \\textbf{  Jarque-Bera (JB):  } & 458815282.135  \\\\\n",
       "\\textbf{Skew:}          &   21.539  & \\textbf{  Prob(JB):          } &        0.00    \\\\\n",
       "\\textbf{Kurtosis:}      &  620.259  & \\textbf{  Cond. No.          } &    1.39e+03    \\\\\n",
       "\\bottomrule\n",
       "\\end{tabular}\n",
       "%\\caption{OLS Regression Results}\n",
       "\\end{center}\n",
       "\n",
       "Notes: \\newline\n",
       " [1] R² is computed without centering (uncentered) since the model does not contain a constant. \\newline\n",
       " [2] Standard Errors assume that the covariance matrix of the errors is correctly specified. \\newline\n",
       " [3] The condition number is large, 1.39e+03. This might indicate that there are \\newline\n",
       " strong multicollinearity or other numerical problems."
      ],
      "text/plain": [
       "<class 'statsmodels.iolib.summary.Summary'>\n",
       "\"\"\"\n",
       "                                   OLS Regression Results                                   \n",
       "============================================================================================\n",
       "Dep. Variable:     CO2 Emission Grams/Mile   R-squared (uncentered):                   0.999\n",
       "Model:                                 OLS   Adj. R-squared (uncentered):              0.999\n",
       "Method:                      Least Squares   F-statistic:                          7.305e+06\n",
       "Date:                     Fri, 30 May 2025   Prob (F-statistic):                        0.00\n",
       "Time:                             15:06:14   Log-Likelihood:                     -1.2352e+05\n",
       "No. Observations:                    28761   AIC:                                  2.470e+05\n",
       "Df Residuals:                        28758   BIC:                                  2.471e+05\n",
       "Df Model:                                3                                                  \n",
       "Covariance Type:                 nonrobust                                                  \n",
       "=====================================================================================\n",
       "                        coef    std err          t      P>|t|      [0.025      0.975]\n",
       "-------------------------------------------------------------------------------------\n",
       "Year                  0.0769      0.001     80.389      0.000       0.075       0.079\n",
       "Fuel Barrels/Year    22.4666      0.056    403.361      0.000      22.357      22.576\n",
       "Combined MPG         -3.7191      0.049    -76.026      0.000      -3.815      -3.623\n",
       "==============================================================================\n",
       "Omnibus:                    64903.459   Durbin-Watson:                   2.011\n",
       "Prob(Omnibus):                  0.000   Jarque-Bera (JB):        458815282.135\n",
       "Skew:                          21.539   Prob(JB):                         0.00\n",
       "Kurtosis:                     620.259   Cond. No.                     1.39e+03\n",
       "==============================================================================\n",
       "\n",
       "Notes:\n",
       "[1] R² is computed without centering (uncentered) since the model does not contain a constant.\n",
       "[2] Standard Errors assume that the covariance matrix of the errors is correctly specified.\n",
       "[3] The condition number is large, 1.39e+03. This might indicate that there are\n",
       "strong multicollinearity or other numerical problems.\n",
       "\"\"\""
      ]
     },
     "execution_count": 54,
     "metadata": {},
     "output_type": "execute_result"
    }
   ],
   "source": [
    "\n",
    "\n",
    "# Compute Score\n",
    "print('R2-Scores:')\n",
    "print('training data:', r2_score(y_train, y_red_train_pred))\n",
    "print('test data:', r2_score(y_test, y_red_test_pred))\n",
    "\n",
    "# Compute MSE for training and testing sets \n",
    "print('MSE:')\n",
    "print('training data:', mean_squared_error(y_red_train_pred, y_train))\n",
    "print('test data:', mean_squared_error(y_red_test_pred, y_test))\n",
    "\n",
    "\n",
    "ols_model_2 = sm.OLS(y_train, X_red_train).fit()\n",
    "ols_summary_2 = ols_model_2.summary()\n",
    "ols_summary_2"
   ]
  },
  {
   "cell_type": "markdown",
   "metadata": {},
   "source": [
    "Removing the two parameters due to collinearity leads to a slight decrease in the R2 score and a noticable rise in the MSE results for both training and test data. This is expected to an extent because we are reducing the overall number of parameters and hence the predictive power of the model. \n",
    "\n",
    "Apparently, some collinearity is acceptable for modern machine learning algorithms, so it might not be worth to remove the collinearity in this instance if one is only concerned about predictive power. Removing them might make the model more robust, interpretable and certainly simpler."
   ]
  },
  {
   "cell_type": "markdown",
   "metadata": {},
   "source": [
    "## Bonus Challenge: Error Analysis"
   ]
  },
  {
   "cell_type": "markdown",
   "metadata": {},
   "source": [
    "I am suspicious about the last few parties I have thrown: it seems that the more people I invite the more people are unable to attend. To know if my hunch is supported by data, I have decided to do an analysis. I have collected my data in the table below, where X is the number of people I invited, and Y is the number of people who attended. \n",
    "\n",
    "|  X |  Y |\n",
    "|----|----|\n",
    "| 1  |  1 |\n",
    "| 3  |  2 |\n",
    "| 4  |  4 |\n",
    "| 6  |  4 |\n",
    "| 8  |  5 |\n",
    "| 9  |  7 |\n",
    "| 11 |  8 |\n",
    "| 14 |  13 |"
   ]
  },
  {
   "cell_type": "markdown",
   "metadata": {},
   "source": [
    "We want to know if the relationship modeled by the two random variables is linear or not, and therefore if it is appropriate to model it with a linear regression. \n",
    "First, build a dataframe with the data. "
   ]
  },
  {
   "cell_type": "code",
   "execution_count": 83,
   "metadata": {},
   "outputs": [
    {
     "data": {
      "text/html": [
       "<div>\n",
       "<style scoped>\n",
       "    .dataframe tbody tr th:only-of-type {\n",
       "        vertical-align: middle;\n",
       "    }\n",
       "\n",
       "    .dataframe tbody tr th {\n",
       "        vertical-align: top;\n",
       "    }\n",
       "\n",
       "    .dataframe thead th {\n",
       "        text-align: right;\n",
       "    }\n",
       "</style>\n",
       "<table border=\"1\" class=\"dataframe\">\n",
       "  <thead>\n",
       "    <tr style=\"text-align: right;\">\n",
       "      <th></th>\n",
       "      <th>X</th>\n",
       "      <th>Y</th>\n",
       "    </tr>\n",
       "  </thead>\n",
       "  <tbody>\n",
       "    <tr>\n",
       "      <th>0</th>\n",
       "      <td>1</td>\n",
       "      <td>1</td>\n",
       "    </tr>\n",
       "    <tr>\n",
       "      <th>1</th>\n",
       "      <td>3</td>\n",
       "      <td>2</td>\n",
       "    </tr>\n",
       "    <tr>\n",
       "      <th>2</th>\n",
       "      <td>4</td>\n",
       "      <td>4</td>\n",
       "    </tr>\n",
       "    <tr>\n",
       "      <th>3</th>\n",
       "      <td>6</td>\n",
       "      <td>4</td>\n",
       "    </tr>\n",
       "    <tr>\n",
       "      <th>4</th>\n",
       "      <td>8</td>\n",
       "      <td>5</td>\n",
       "    </tr>\n",
       "    <tr>\n",
       "      <th>5</th>\n",
       "      <td>9</td>\n",
       "      <td>7</td>\n",
       "    </tr>\n",
       "    <tr>\n",
       "      <th>6</th>\n",
       "      <td>11</td>\n",
       "      <td>8</td>\n",
       "    </tr>\n",
       "    <tr>\n",
       "      <th>7</th>\n",
       "      <td>14</td>\n",
       "      <td>13</td>\n",
       "    </tr>\n",
       "  </tbody>\n",
       "</table>\n",
       "</div>"
      ],
      "text/plain": [
       "    X   Y\n",
       "0   1   1\n",
       "1   3   2\n",
       "2   4   4\n",
       "3   6   4\n",
       "4   8   5\n",
       "5   9   7\n",
       "6  11   8\n",
       "7  14  13"
      ]
     },
     "execution_count": 83,
     "metadata": {},
     "output_type": "execute_result"
    }
   ],
   "source": [
    "# Your code here.\n",
    "df = pd.DataFrame({'X': [1,3,4,6,8,9,11,14],\n",
    "                   'Y': [1,2,4,4,5,7,8,13]})\n",
    "df\n",
    "\n",
    "# This distribution is somewhat sad - hardly anyone seems to want to come to this person's party at all."
   ]
  },
  {
   "cell_type": "markdown",
   "metadata": {},
   "source": [
    "Draw a dispersion diagram (scatter plot) for the data, and fit a regression line."
   ]
  },
  {
   "cell_type": "code",
   "execution_count": 88,
   "metadata": {},
   "outputs": [
    {
     "data": {
      "image/png": "[encoded data removed]",
      "text/plain": [
       "<Figure size 640x480 with 1 Axes>"
      ]
     },
     "metadata": {},
     "output_type": "display_data"
    }
   ],
   "source": [
    "# Your code here.\n",
    "\n",
    "# define parameters and target variable\n",
    "X = df[['X']]\n",
    "y = df['Y']\n",
    "\n",
    "# train-test-split\n",
    "X_train,X_test,y_train, y_test = train_test_split(X,y,random_state=23,test_size=.2)\n",
    "\n",
    "# instantiate and fit linear regression on training data\n",
    "linmod = LinearRegression()\n",
    "linmod.fit(X_train,y_train)\n",
    "\n",
    "# predict train and test data\n",
    "y_train_pred = linmod.predict(X_train)\n",
    "y_test_pred = linmod.predict(X_test)\n",
    "\n",
    "# predict all data points for drawing regression line\n",
    "y_pred_full = linmod.predict(X)\n",
    "\n",
    "# draw scatterplot\n",
    "plt.plot(X_train,y_train,'o',label='train')\n",
    "plt.plot(X_test,y_test,'o',label='test')\n",
    "#sns.scatterplot(df,x='X_train',y='y_train')\n",
    "#sns.scatterplot()\n",
    "\n",
    "# draw regression line\n",
    "plt.plot(X,y_pred_full,'r');\n"
   ]
  },
  {
   "cell_type": "markdown",
   "metadata": {},
   "source": [
    "What do you see? What does this plot tell you about the likely relationship between the variables? Print the results from your regression."
   ]
  },
  {
   "cell_type": "markdown",
   "metadata": {},
   "source": [
    "The model seems to fit most of the datapoints quite closely."
   ]
  },
  {
   "cell_type": "code",
   "execution_count": 66,
   "metadata": {},
   "outputs": [
    {
     "data": {
      "text/html": [
       "<div>\n",
       "<style scoped>\n",
       "    .dataframe tbody tr th:only-of-type {\n",
       "        vertical-align: middle;\n",
       "    }\n",
       "\n",
       "    .dataframe tbody tr th {\n",
       "        vertical-align: top;\n",
       "    }\n",
       "\n",
       "    .dataframe thead th {\n",
       "        text-align: right;\n",
       "    }\n",
       "</style>\n",
       "<table border=\"1\" class=\"dataframe\">\n",
       "  <thead>\n",
       "    <tr style=\"text-align: right;\">\n",
       "      <th></th>\n",
       "      <th>X</th>\n",
       "      <th>y</th>\n",
       "      <th>y_pred</th>\n",
       "      <th>diff</th>\n",
       "    </tr>\n",
       "  </thead>\n",
       "  <tbody>\n",
       "    <tr>\n",
       "      <th>0</th>\n",
       "      <td>1</td>\n",
       "      <td>1</td>\n",
       "      <td>0.409091</td>\n",
       "      <td>0.590909</td>\n",
       "    </tr>\n",
       "    <tr>\n",
       "      <th>1</th>\n",
       "      <td>3</td>\n",
       "      <td>2</td>\n",
       "      <td>2.106061</td>\n",
       "      <td>-0.106061</td>\n",
       "    </tr>\n",
       "    <tr>\n",
       "      <th>2</th>\n",
       "      <td>4</td>\n",
       "      <td>4</td>\n",
       "      <td>2.954545</td>\n",
       "      <td>1.045455</td>\n",
       "    </tr>\n",
       "    <tr>\n",
       "      <th>3</th>\n",
       "      <td>6</td>\n",
       "      <td>4</td>\n",
       "      <td>4.651515</td>\n",
       "      <td>-0.651515</td>\n",
       "    </tr>\n",
       "    <tr>\n",
       "      <th>4</th>\n",
       "      <td>8</td>\n",
       "      <td>5</td>\n",
       "      <td>6.348485</td>\n",
       "      <td>-1.348485</td>\n",
       "    </tr>\n",
       "    <tr>\n",
       "      <th>5</th>\n",
       "      <td>9</td>\n",
       "      <td>7</td>\n",
       "      <td>7.196970</td>\n",
       "      <td>-0.196970</td>\n",
       "    </tr>\n",
       "    <tr>\n",
       "      <th>6</th>\n",
       "      <td>11</td>\n",
       "      <td>8</td>\n",
       "      <td>8.893939</td>\n",
       "      <td>-0.893939</td>\n",
       "    </tr>\n",
       "    <tr>\n",
       "      <th>7</th>\n",
       "      <td>14</td>\n",
       "      <td>13</td>\n",
       "      <td>11.439394</td>\n",
       "      <td>1.560606</td>\n",
       "    </tr>\n",
       "  </tbody>\n",
       "</table>\n",
       "</div>"
      ],
      "text/plain": [
       "    X   y     y_pred      diff\n",
       "0   1   1   0.409091  0.590909\n",
       "1   3   2   2.106061 -0.106061\n",
       "2   4   4   2.954545  1.045455\n",
       "3   6   4   4.651515 -0.651515\n",
       "4   8   5   6.348485 -1.348485\n",
       "5   9   7   7.196970 -0.196970\n",
       "6  11   8   8.893939 -0.893939\n",
       "7  14  13  11.439394  1.560606"
      ]
     },
     "execution_count": 66,
     "metadata": {},
     "output_type": "execute_result"
    }
   ],
   "source": [
    "res = pd.concat([df,pd.Series(y_pred)],axis=1)\n",
    "res.columns = ['X','y','y_pred']\n",
    "res['diff'] = res['y']-res['y_pred']\n",
    "res"
   ]
  },
  {
   "cell_type": "code",
   "execution_count": 85,
   "metadata": {},
   "outputs": [
    {
     "name": "stdout",
     "output_type": "stream",
     "text": [
      "Score:\n",
      "0.9639519359145527 0.7334046641628087\n",
      "MSE:\n",
      "0.22429906542056088 4.265525373395061\n",
      "MAE:\n",
      "0.3831775700934581 1.8691588785046735\n"
     ]
    }
   ],
   "source": [
    "\n",
    "# Compute Score\n",
    "print('Score:')\n",
    "print(r2_score(y_train, y_train_pred), r2_score(y_test, y_test_pred))\n",
    "\n",
    "# Compute MSE for training and testing sets \n",
    "print('MSE:')\n",
    "print(mean_squared_error(y_train_pred, y_train), mean_squared_error(y_test_pred, y_test))\n",
    "\n",
    "# Compute MSE for training and testing sets \n",
    "print('MAE:')\n",
    "print(mean_absolute_error(y_train_pred, y_train), mean_absolute_error(y_test_pred, y_test))"
   ]
  },
  {
   "cell_type": "markdown",
   "metadata": {},
   "source": [
    "The r-squared-score is close to 1 for the training data, but considerably less for the test data. This might indicate an issue of overfitting (which is not too surprising given the tiny size of the dataset, even more so after splitting)."
   ]
  },
  {
   "cell_type": "markdown",
   "metadata": {},
   "source": [
    "Do you see any problematic points, or outliers, in your data? Remove these points and recalculate your regression. Print the new dispersion diagram with your new model and the results of your model. "
   ]
  },
  {
   "cell_type": "code",
   "execution_count": 90,
   "metadata": {},
   "outputs": [
    {
     "data": {
      "image/png": "[encoded data removed]",
      "text/plain": [
       "<Figure size 640x480 with 1 Axes>"
      ]
     },
     "metadata": {},
     "output_type": "display_data"
    }
   ],
   "source": [
    "# Your response here.\n",
    "# I suppose I could remove the final value with the largest difference from the prediction\n",
    "# this should certainly improve the result, but not sure to what extent that is data hacking in this instance\n",
    "\n",
    "df_reduced = df.loc[df['X'] != 14]\n",
    "\n",
    "# define parameters and target variable\n",
    "X = df_reduced[['X']]\n",
    "y = df_reduced['Y']\n",
    "\n",
    "# train-test-split\n",
    "X_train,X_test,y_train, y_test = train_test_split(X,y,random_state=23,test_size=.2)\n",
    "\n",
    "# instantiate and fit linear regression on training data\n",
    "linmod = LinearRegression()\n",
    "linmod.fit(X_train,y_train)\n",
    "\n",
    "# predict train and test data\n",
    "y_train_pred = linmod.predict(X_train)\n",
    "y_test_pred = linmod.predict(X_test)\n",
    "\n",
    "# predict all data points for drawing regression line\n",
    "y_pred_full = linmod.predict(X)\n",
    "\n",
    "# draw scatterplot\n",
    "plt.plot(X_train,y_train,'o',label='train')\n",
    "plt.plot(X_test,y_test,'o',label='test')\n",
    "#sns.scatterplot(df,x='X_train',y='y_train')\n",
    "#sns.scatterplot()\n",
    "\n",
    "# draw regression line\n",
    "plt.plot(X,y_pred_full,'r');\n",
    "\n"
   ]
  },
  {
   "cell_type": "code",
   "execution_count": 91,
   "metadata": {},
   "outputs": [
    {
     "name": "stdout",
     "output_type": "stream",
     "text": [
      "Score:\n",
      "0.938121322783526 0.7205328811294807\n",
      "MSE:\n",
      "0.26236559139784965 0.6288010174586686\n",
      "MAE:\n",
      "0.4215053763440861 0.6827956989247337\n"
     ]
    }
   ],
   "source": [
    "\n",
    "# Compute Score\n",
    "print('Score:')\n",
    "print(r2_score(y_train, y_train_pred), r2_score(y_test, y_test_pred))\n",
    "\n",
    "# Compute MSE for training and testing sets \n",
    "print('MSE:')\n",
    "print(mean_squared_error(y_train_pred, y_train), mean_squared_error(y_test_pred, y_test))\n",
    "\n",
    "# Compute MSE for training and testing sets \n",
    "print('MAE:')\n",
    "print(mean_absolute_error(y_train_pred, y_train), mean_absolute_error(y_test_pred, y_test))"
   ]
  },
  {
   "cell_type": "markdown",
   "metadata": {},
   "source": [
    "What changed? Based on the results of the two models and your graphs, what can you say about the form of the data with the problematic point and without it?"
   ]
  },
  {
   "cell_type": "markdown",
   "metadata": {},
   "source": [
    "The r-squared score actually  reduced slightly both for the train and test sets, possibly because of the even smaller number of datapoints?\n",
    "The MSE/MSA for the test set decreased/improved considerably, which is expected since we removed the datapoint that was causing the largest deviation."
   ]
  }
 ],
 "metadata": {
  "kernelspec": {
   "display_name": "Python 3",
   "language": "python",
   "name": "python3"
  },
  "language_info": {
   "codemirror_mode": {
    "name": "ipython",
    "version": 3
   },
   "file_extension": ".py",
   "mimetype": "text/x-python",
   "name": "python",
   "nbconvert_exporter": "python",
   "pygments_lexer": "ipython3",
   "version": "3.11.11"
  }
 },
 "nbformat": 4,
 "nbformat_minor": 2
}
